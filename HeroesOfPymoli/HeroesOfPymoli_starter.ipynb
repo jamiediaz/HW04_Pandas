{
 "cells": [
  {
   "cell_type": "markdown",
   "metadata": {},
   "source": [
    "### Heroes Of Pymoli Data Analysis\n",
    "* Of the 1163 active players, the vast majority are male (84%). There also exists, a smaller, but notable proportion of female players (14%).\n",
    "\n",
    "* Our peak age demographic falls between 20-24 (44.8%) with secondary groups falling between 15-19 (18.60%) and 25-29 (13.4%).  \n",
    "-----"
   ]
  },
  {
   "cell_type": "markdown",
   "metadata": {},
   "source": [
    "### Note\n",
    "* Instructions have been included for each segment. You do not have to follow them exactly, but they are included to help you think through the steps."
   ]
  },
  {
   "cell_type": "code",
   "execution_count": 1,
   "metadata": {},
   "outputs": [
    {
     "data": {
      "text/html": [
       "<div>\n",
       "<style scoped>\n",
       "    .dataframe tbody tr th:only-of-type {\n",
       "        vertical-align: middle;\n",
       "    }\n",
       "\n",
       "    .dataframe tbody tr th {\n",
       "        vertical-align: top;\n",
       "    }\n",
       "\n",
       "    .dataframe thead th {\n",
       "        text-align: right;\n",
       "    }\n",
       "</style>\n",
       "<table border=\"1\" class=\"dataframe\">\n",
       "  <thead>\n",
       "    <tr style=\"text-align: right;\">\n",
       "      <th></th>\n",
       "      <th>Purchase ID</th>\n",
       "      <th>SN</th>\n",
       "      <th>Age</th>\n",
       "      <th>Gender</th>\n",
       "      <th>Item ID</th>\n",
       "      <th>Item Name</th>\n",
       "      <th>Price</th>\n",
       "    </tr>\n",
       "  </thead>\n",
       "  <tbody>\n",
       "    <tr>\n",
       "      <th>0</th>\n",
       "      <td>0</td>\n",
       "      <td>Lisim78</td>\n",
       "      <td>20</td>\n",
       "      <td>Male</td>\n",
       "      <td>108</td>\n",
       "      <td>Extraction, Quickblade Of Trembling Hands</td>\n",
       "      <td>3.53</td>\n",
       "    </tr>\n",
       "    <tr>\n",
       "      <th>1</th>\n",
       "      <td>1</td>\n",
       "      <td>Lisovynya38</td>\n",
       "      <td>40</td>\n",
       "      <td>Male</td>\n",
       "      <td>143</td>\n",
       "      <td>Frenzied Scimitar</td>\n",
       "      <td>1.56</td>\n",
       "    </tr>\n",
       "    <tr>\n",
       "      <th>2</th>\n",
       "      <td>2</td>\n",
       "      <td>Ithergue48</td>\n",
       "      <td>24</td>\n",
       "      <td>Male</td>\n",
       "      <td>92</td>\n",
       "      <td>Final Critic</td>\n",
       "      <td>4.88</td>\n",
       "    </tr>\n",
       "    <tr>\n",
       "      <th>3</th>\n",
       "      <td>3</td>\n",
       "      <td>Chamassasya86</td>\n",
       "      <td>24</td>\n",
       "      <td>Male</td>\n",
       "      <td>100</td>\n",
       "      <td>Blindscythe</td>\n",
       "      <td>3.27</td>\n",
       "    </tr>\n",
       "    <tr>\n",
       "      <th>4</th>\n",
       "      <td>4</td>\n",
       "      <td>Iskosia90</td>\n",
       "      <td>23</td>\n",
       "      <td>Male</td>\n",
       "      <td>131</td>\n",
       "      <td>Fury</td>\n",
       "      <td>1.44</td>\n",
       "    </tr>\n",
       "  </tbody>\n",
       "</table>\n",
       "</div>"
      ],
      "text/plain": [
       "   Purchase ID             SN  Age Gender  Item ID  \\\n",
       "0            0        Lisim78   20   Male      108   \n",
       "1            1    Lisovynya38   40   Male      143   \n",
       "2            2     Ithergue48   24   Male       92   \n",
       "3            3  Chamassasya86   24   Male      100   \n",
       "4            4      Iskosia90   23   Male      131   \n",
       "\n",
       "                                   Item Name  Price  \n",
       "0  Extraction, Quickblade Of Trembling Hands   3.53  \n",
       "1                          Frenzied Scimitar   1.56  \n",
       "2                               Final Critic   4.88  \n",
       "3                                Blindscythe   3.27  \n",
       "4                                       Fury   1.44  "
      ]
     },
     "execution_count": 1,
     "metadata": {},
     "output_type": "execute_result"
    }
   ],
   "source": [
    "# Dependencies and Setup\n",
    "import pandas as pd\n",
    "import numpy as np\n",
    "\n",
    "# File to Load (Remember to Change These)\n",
    "file_to_load = \"Resources/purchase_data.csv\"\n",
    "\n",
    "#allows max display of rows up to 999\n",
    "pd.set_option(\"display.max_rows\",999)\n",
    "\n",
    "# Read Purchasing File and store into Pandas data frame\n",
    "purchase_data = pd.read_csv(file_to_load)\n",
    "purchase_data.head()\n",
    "\n"
   ]
  },
  {
   "cell_type": "markdown",
   "metadata": {},
   "source": [
    "* Display the total number of players\n"
   ]
  },
  {
   "cell_type": "code",
   "execution_count": 2,
   "metadata": {},
   "outputs": [
    {
     "data": {
      "text/html": [
       "<div>\n",
       "<style scoped>\n",
       "    .dataframe tbody tr th:only-of-type {\n",
       "        vertical-align: middle;\n",
       "    }\n",
       "\n",
       "    .dataframe tbody tr th {\n",
       "        vertical-align: top;\n",
       "    }\n",
       "\n",
       "    .dataframe thead th {\n",
       "        text-align: right;\n",
       "    }\n",
       "</style>\n",
       "<table border=\"1\" class=\"dataframe\">\n",
       "  <thead>\n",
       "    <tr style=\"text-align: right;\">\n",
       "      <th></th>\n",
       "      <th>Total Players</th>\n",
       "    </tr>\n",
       "  </thead>\n",
       "  <tbody>\n",
       "    <tr>\n",
       "      <th>0</th>\n",
       "      <td>576</td>\n",
       "    </tr>\n",
       "  </tbody>\n",
       "</table>\n",
       "</div>"
      ],
      "text/plain": [
       "   Total Players\n",
       "0            576"
      ]
     },
     "execution_count": 2,
     "metadata": {},
     "output_type": "execute_result"
    }
   ],
   "source": [
    "player_cnt = purchase_data[\"SN\"].nunique()\n",
    "player_cnt_df = pd.DataFrame({\"Total Players\":[player_cnt]})\n",
    "player_cnt_df"
   ]
  },
  {
   "cell_type": "markdown",
   "metadata": {},
   "source": [
    "## Purchasing Analysis (Total)"
   ]
  },
  {
   "cell_type": "markdown",
   "metadata": {},
   "source": [
    "* Run basic calculations to obtain number of unique items, average price, etc.\n",
    "\n",
    "\n",
    "* Create a summary data frame to hold the results\n",
    "\n",
    "\n",
    "* Optional: give the displayed data cleaner formatting\n",
    "\n",
    "\n",
    "* Display the summary data frame\n"
   ]
  },
  {
   "cell_type": "code",
   "execution_count": 3,
   "metadata": {
    "scrolled": true
   },
   "outputs": [
    {
     "data": {
      "text/html": [
       "<div>\n",
       "<style scoped>\n",
       "    .dataframe tbody tr th:only-of-type {\n",
       "        vertical-align: middle;\n",
       "    }\n",
       "\n",
       "    .dataframe tbody tr th {\n",
       "        vertical-align: top;\n",
       "    }\n",
       "\n",
       "    .dataframe thead th {\n",
       "        text-align: right;\n",
       "    }\n",
       "</style>\n",
       "<table border=\"1\" class=\"dataframe\">\n",
       "  <thead>\n",
       "    <tr style=\"text-align: right;\">\n",
       "      <th></th>\n",
       "      <th>Number of Unique Items</th>\n",
       "      <th>Average Cost of Items</th>\n",
       "      <th>Total Number of Purchases</th>\n",
       "      <th>Total Revenue</th>\n",
       "      <th>Most Expensive Item</th>\n",
       "      <th>Price of High Item</th>\n",
       "      <th>Lowest Purchase</th>\n",
       "      <th>Price of Low Item</th>\n",
       "    </tr>\n",
       "  </thead>\n",
       "  <tbody>\n",
       "    <tr>\n",
       "      <th>0</th>\n",
       "      <td>183</td>\n",
       "      <td>3.05</td>\n",
       "      <td>780</td>\n",
       "      <td>2379.77</td>\n",
       "      <td>Stormfury Mace</td>\n",
       "      <td>4.99</td>\n",
       "      <td>Whistling Mithril Warblade</td>\n",
       "      <td>1.0</td>\n",
       "    </tr>\n",
       "  </tbody>\n",
       "</table>\n",
       "</div>"
      ],
      "text/plain": [
       "   Number of Unique Items  Average Cost of Items  Total Number of Purchases  \\\n",
       "0                     183                   3.05                        780   \n",
       "\n",
       "   Total Revenue Most Expensive Item  Price of High Item  \\\n",
       "0        2379.77      Stormfury Mace                4.99   \n",
       "\n",
       "              Lowest Purchase  Price of Low Item  \n",
       "0  Whistling Mithril Warblade                1.0  "
      ]
     },
     "execution_count": 3,
     "metadata": {},
     "output_type": "execute_result"
    }
   ],
   "source": [
    "#Number of unique items\n",
    "unique_num = purchase_data[\"Item ID\"].nunique()\n",
    "\n",
    "#Average price of items\n",
    "avg_price = round(purchase_data[\"Price\"].mean(),2)\n",
    "\n",
    "#Total number of items purchased\n",
    "total_num_purch = purchase_data[\"Purchase ID\"].nunique()\n",
    "\n",
    "#Total revenue from items sold\n",
    "total_rev = purchase_data[\"Price\"].sum()\n",
    "\n",
    "#Price of the most expensive item\n",
    "hi_cost = round(purchase_data[\"Price\"].max(),2)\n",
    "\n",
    "#The most expensive item\n",
    "hi_item = purchase_data.loc[purchase_data[\"Price\"] == hi_cost, \"Item Name\"].iloc[0]\n",
    "\n",
    "#Price of the cheapest item\n",
    "lo_cost = round(purchase_data[\"Price\"].min(),2)\n",
    "\n",
    "#The cheapest item\n",
    "lo_item = purchase_data.loc[purchase_data[\"Price\"] == lo_cost, \"Item Name\"].iloc[0]\n",
    "\n",
    "summary_df = pd.DataFrame({\"Number of Unique Items\":[unique_num],\n",
    "                           \"Average Cost of Items\":[avg_price],\n",
    "                           \"Total Number of Purchases\":[total_num_purch],\n",
    "                           \"Total Revenue\":[total_rev],\n",
    "                           \"Most Expensive Item\":[hi_item],\n",
    "                           \"Price of High Item\":[hi_cost],\n",
    "                           \"Lowest Purchase\":[lo_item],\n",
    "                           \"Price of Low Item\":[lo_cost]\n",
    "                         })\n",
    "summary_df"
   ]
  },
  {
   "cell_type": "markdown",
   "metadata": {},
   "source": [
    "## Gender Demographics"
   ]
  },
  {
   "cell_type": "markdown",
   "metadata": {},
   "source": [
    "* Percentage and Count of Male Players\n",
    "\n",
    "\n",
    "* Percentage and Count of Female Players\n",
    "\n",
    "\n",
    "* Percentage and Count of Other / Non-Disclosed\n",
    "\n",
    "\n"
   ]
  },
  {
   "cell_type": "code",
   "execution_count": 4,
   "metadata": {},
   "outputs": [
    {
     "data": {
      "text/html": [
       "<div>\n",
       "<style scoped>\n",
       "    .dataframe tbody tr th:only-of-type {\n",
       "        vertical-align: middle;\n",
       "    }\n",
       "\n",
       "    .dataframe tbody tr th {\n",
       "        vertical-align: top;\n",
       "    }\n",
       "\n",
       "    .dataframe thead th {\n",
       "        text-align: right;\n",
       "    }\n",
       "</style>\n",
       "<table border=\"1\" class=\"dataframe\">\n",
       "  <thead>\n",
       "    <tr style=\"text-align: right;\">\n",
       "      <th></th>\n",
       "      <th>Total Count</th>\n",
       "      <th>Percentage of Players</th>\n",
       "    </tr>\n",
       "    <tr>\n",
       "      <th>Gender</th>\n",
       "      <th></th>\n",
       "      <th></th>\n",
       "    </tr>\n",
       "  </thead>\n",
       "  <tbody>\n",
       "    <tr>\n",
       "      <th>Female</th>\n",
       "      <td>81</td>\n",
       "      <td>14.06</td>\n",
       "    </tr>\n",
       "    <tr>\n",
       "      <th>Male</th>\n",
       "      <td>484</td>\n",
       "      <td>84.03</td>\n",
       "    </tr>\n",
       "    <tr>\n",
       "      <th>Other / Non-Disclosed</th>\n",
       "      <td>11</td>\n",
       "      <td>1.91</td>\n",
       "    </tr>\n",
       "  </tbody>\n",
       "</table>\n",
       "</div>"
      ],
      "text/plain": [
       "                       Total Count  Percentage of Players\n",
       "Gender                                                   \n",
       "Female                          81                  14.06\n",
       "Male                           484                  84.03\n",
       "Other / Non-Disclosed           11                   1.91"
      ]
     },
     "execution_count": 4,
     "metadata": {},
     "output_type": "execute_result"
    }
   ],
   "source": [
    "#calulates the number of customers divided up by gender\n",
    "gender_cnt = purchase_data.groupby(\"Gender\")[\"SN\"].nunique()\n",
    "gender_cnt_df = gender_cnt.to_frame(\"Total Count\").reset_index()\n",
    "\n",
    "#calculates the percentage of genders\n",
    "gender_percent = round(((gender_cnt)/player_cnt)*100,2)\n",
    "gender_percent_df = gender_percent.to_frame(\"Percentage of Players\").reset_index()\n",
    "\n",
    "#merge the two dataframes to display a summary. \n",
    "gender_demographics_df = gender_cnt_df.merge(gender_percent_df).set_index(\"Gender\")\n",
    "gender_demographics_df"
   ]
  },
  {
   "cell_type": "markdown",
   "metadata": {},
   "source": [
    "\n",
    "## Purchasing Analysis (Gender)"
   ]
  },
  {
   "cell_type": "markdown",
   "metadata": {},
   "source": [
    "* Run basic calculations to obtain purchase count, avg. purchase price, avg. purchase total per person etc. by gender\n",
    "\n",
    "\n",
    "\n",
    "\n",
    "* Create a summary data frame to hold the results\n",
    "\n",
    "\n",
    "* Optional: give the displayed data cleaner formatting\n",
    "\n",
    "\n",
    "* Display the summary data frame"
   ]
  },
  {
   "cell_type": "code",
   "execution_count": 5,
   "metadata": {},
   "outputs": [
    {
     "ename": "NameError",
     "evalue": "name 'gender_total_value' is not defined",
     "output_type": "error",
     "traceback": [
      "\u001b[1;31m---------------------------------------------------------------------------\u001b[0m",
      "\u001b[1;31mNameError\u001b[0m                                 Traceback (most recent call last)",
      "\u001b[1;32m<ipython-input-5-f4a55d584a08>\u001b[0m in \u001b[0;36m<module>\u001b[1;34m\u001b[0m\n\u001b[0;32m     12\u001b[0m \u001b[1;33m\u001b[0m\u001b[0m\n\u001b[0;32m     13\u001b[0m \u001b[1;31m#   * Average Purchase Total per Person by Gender\u001b[0m\u001b[1;33m\u001b[0m\u001b[1;33m\u001b[0m\u001b[1;33m\u001b[0m\u001b[0m\n\u001b[1;32m---> 14\u001b[1;33m \u001b[0mcust_avg_total\u001b[0m \u001b[1;33m=\u001b[0m \u001b[0mround\u001b[0m\u001b[1;33m(\u001b[0m\u001b[0mgender_total_value\u001b[0m\u001b[1;33m/\u001b[0m\u001b[0mgender_cnt\u001b[0m\u001b[1;33m,\u001b[0m\u001b[1;36m2\u001b[0m\u001b[1;33m)\u001b[0m\u001b[1;33m\u001b[0m\u001b[1;33m\u001b[0m\u001b[0m\n\u001b[0m\u001b[0;32m     15\u001b[0m \u001b[0mcust_avg_total_df\u001b[0m \u001b[1;33m=\u001b[0m \u001b[0mcust_avg_total\u001b[0m\u001b[1;33m.\u001b[0m\u001b[0mto_frame\u001b[0m\u001b[1;33m(\u001b[0m\u001b[1;34m\"Average Total Purchase per Person\"\u001b[0m\u001b[1;33m)\u001b[0m\u001b[1;33m.\u001b[0m\u001b[0mreset_index\u001b[0m\u001b[1;33m(\u001b[0m\u001b[1;33m)\u001b[0m\u001b[1;33m\u001b[0m\u001b[1;33m\u001b[0m\u001b[0m\n\u001b[0;32m     16\u001b[0m \u001b[1;33m\u001b[0m\u001b[0m\n",
      "\u001b[1;31mNameError\u001b[0m: name 'gender_total_value' is not defined"
     ]
    }
   ],
   "source": [
    "#   * Purchase Count\n",
    "gender_purchase = purchase_data.groupby(\"Gender\")[\"Price\"].count()\n",
    "gender_purchase_df = gender_purchase.to_frame(\"Purchases\").reset_index()\n",
    "\n",
    "#   * Average Purchase Price\n",
    "gender_purchase_avg = round(purchase_data.groupby(\"Gender\")[\"Price\"].mean(),2)\n",
    "gender_purchase_avg_df = gender_purchase_avg.to_frame(\"Purchase Average\").reset_index()\n",
    "\n",
    "#   * Total Purchase Value\n",
    "gender_total_val = purchase_data.groupby(\"Gender\")[\"Price\"].sum()\n",
    "gender_total_val_df = gender_total_val.to_frame(\"Total Purchase Value\").reset_index()\n",
    "\n",
    "#   * Average Purchase Total per Person by Gender\n",
    "cust_avg_total = round(gender_total_value/gender_cnt,2)\n",
    "cust_avg_total_df = cust_avg_total.to_frame(\"Average Total Purchase per Person\").reset_index()\n",
    "\n",
    "#Merge the dataframes and set index to Gender. \n",
    "purchase_gender_analysis_df = gender_purchase_df.merge(gender_purchase_avg_df).merge(gender_total_val_df).merge(cust_avg_total_df).set_index(\"Gender\")\n",
    "purchase_gender_analysis_df"
   ]
  },
  {
   "cell_type": "raw",
   "metadata": {},
   "source": [
    "## Age Demographics"
   ]
  },
  {
   "cell_type": "markdown",
   "metadata": {},
   "source": [
    "* Establish bins for ages\n",
    "\n",
    "\n",
    "* Categorize the existing players using the age bins. Hint: use pd.cut()\n",
    "\n",
    "\n",
    "* Calculate the numbers and percentages by age group\n",
    "\n",
    "\n",
    "* Create a summary data frame to hold the results\n",
    "\n",
    "\n",
    "* Optional: round the percentage column to two decimal points\n",
    "\n",
    "\n",
    "* Display Age Demographics Table\n"
   ]
  },
  {
   "cell_type": "code",
   "execution_count": null,
   "metadata": {},
   "outputs": [],
   "source": [
    "#creates the age brackets\n",
    "age_bins = [0,9,14,19,24,29,34,39,100]\n",
    "age_labels = [\"<10\",\"10-14\",\"15-19\",\"20-24\",\"25-29\",\"30-34\",\"35-39\",\"40+\"]\n",
    "\n",
    "#takes the ages from the CSV data. \n",
    "purchase_data[\"Age Group\"] = pd.cut(purchase_data[\"Age\"], age_bins, labels=age_labels)\n",
    "\n",
    "#groups the unique SNs by age and counts them.  Then it converts the series to a dataframe\n",
    "age_breakdown = purchase_data.groupby(\"Age Group\")[\"SN\"].nunique()\n",
    "age_breakdown_df = age_breakdown.to_frame(\"Total Count\").reset_index()\n",
    "\n",
    "#Calculates the percentage of the age counts and rounds by 2 decimals. Then converts the series into a dataframe\n",
    "age_percentage = round((age_breakdown/player_cnt)*100,2)\n",
    "age_percentage_df = age_percentage.to_frame(\"Percentage of Players\").reset_index()\n",
    "\n",
    "#Merged the two dataframes together and sets the age group column as the new index. \n",
    "age_demographic_df = age_breakdown_df.merge(age_percentage_df).set_index(\"Age Group\")\n",
    "age_demographic_df\n",
    "\n",
    "\n",
    "\n"
   ]
  },
  {
   "cell_type": "markdown",
   "metadata": {},
   "source": [
    "## Purchasing Analysis (Age)"
   ]
  },
  {
   "cell_type": "markdown",
   "metadata": {},
   "source": [
    "* Bin the purchase_data data frame by age\n",
    "\n",
    "\n",
    "* Run basic calculations to obtain purchase count, avg. purchase price, avg. purchase total per person etc. in the table below\n",
    "\n",
    "\n",
    "* Create a summary data frame to hold the results\n",
    "\n",
    "\n",
    "* Optional: give the displayed data cleaner formatting\n",
    "\n",
    "\n",
    "* Display the summary data frame"
   ]
  },
  {
   "cell_type": "code",
   "execution_count": null,
   "metadata": {},
   "outputs": [],
   "source": [
    "#Calculate the age group for all purchases. Then convert to DF\n",
    "purchase_cnt = purchase_data.groupby(\"Age Group\")[\"Age\"].count()\n",
    "purchase_cnt_df = purchase_cnt.to_frame(\"Purchase Count\").reset_index()\n",
    "\n",
    "#calculates the average purchase price per age group.  Then convert to DF\n",
    "avg_purchase_price = round(purchase_data.groupby(\"Age Group\")[\"Price\"].mean(),2)\n",
    "avg_purchase_price_df = avg_purchase_price.to_frame(\"Average Purchase Price\").reset_index()\n",
    "\n",
    "#Get a total purchase value for each age group. Then convert to DF\n",
    "total_purchase = round(purchase_data.groupby(\"Age Group\")[\"Price\"].sum(),2)\n",
    "total_purchase_df = total_purchase.to_frame(\"Total Purchase Value\").reset_index()\n",
    "\n",
    "#Find the average total purchase value per person. Then convert to DF\n",
    "avg_person_purchase = round(total_purchase/age_breakdown,2)\n",
    "avg_person_purchase_formatted = avg_person_purchase.map(\"${:.2f}\".format)\n",
    "avg_person_purchase_df = avg_person_purchase_formatted.to_frame(\"Avg Total Purchase per Person\").reset_index()\n",
    "\n",
    "#merge all the dataframes together. Set age group as the index. \n",
    "purchase_analysis_df = purchase_cnt_df.merge(avg_purchase_price_df).merge(total_purchase_df).merge(avg_person_purchase_df).set_index(\"Age Group\")\n",
    "purchase_analysis_df"
   ]
  },
  {
   "cell_type": "markdown",
   "metadata": {},
   "source": [
    "## Top Spenders"
   ]
  },
  {
   "cell_type": "markdown",
   "metadata": {},
   "source": [
    "* Run basic calculations to obtain the results in the table below\n",
    "\n",
    "\n",
    "* Create a summary data frame to hold the results\n",
    "\n",
    "\n",
    "* Sort the total purchase value column in descending order\n",
    "\n",
    "\n",
    "* Optional: give the displayed data cleaner formatting\n",
    "\n",
    "\n",
    "* Display a preview of the summary data frame\n",
    "\n"
   ]
  },
  {
   "cell_type": "code",
   "execution_count": null,
   "metadata": {},
   "outputs": [],
   "source": [
    "#Gets counts the number of times an SN made a purchase then converts the results to a dataframe\n",
    "top_SN_buyers = purchase_data.groupby(\"SN\")[\"Purchase ID\"].count()\n",
    "top_SN_buyers_df = top_SN_buyers.to_frame(\"Purchase Count\").reset_index()\n",
    "\n",
    "#Gets the average price an SN spent, formats the results to show currency, then converts the results to a dataframe\n",
    "avg_SN_purchase_price = round(purchase_data.groupby(\"SN\")[\"Price\"].mean(),2)\n",
    "avg_SN_purchase_formatted = avg_SN_purchase_price.map(\"${:.2f}\".format)\n",
    "avg_SN_purchase_price_df = avg_SN_purchase_formatted.to_frame(\"Average Purchase Price\").reset_index()\n",
    "\n",
    "#Gets the total purchase per SN, formats the results for currency, then coverts the results to a dataframe\n",
    "total_SN_purchase_val = round(purchase_data.groupby(\"SN\")[\"Price\"].sum(),2)\n",
    "total_SN_purchase_val_formatted = total_SN_purchase_val.map(\"${:.2f}\".format)\n",
    "total_SN_purchase_val_df = total_SN_purchase_val_formatted.to_frame(\"Total Purchase Value\").reset_index()\n",
    "\n",
    "#Merge the dataframes, sorts the df by Total Purchase Value in decending order. Then sets SN as the new index. \n",
    "top_spenders_df = top_SN_buyers_df.merge(avg_SN_purchase_price_df).merge(total_SN_purchase_val_df).sort_values(by=[\"Total Purchase Value\"], ascending=False).set_index(\"SN\")\n",
    "top_spenders_df.head()"
   ]
  },
  {
   "cell_type": "markdown",
   "metadata": {},
   "source": [
    "## Most Popular Items"
   ]
  },
  {
   "cell_type": "markdown",
   "metadata": {},
   "source": [
    "* Retrieve the Item ID, Item Name, and Item Price columns\n",
    "\n",
    "\n",
    "* Group by Item ID and Item Name. Perform calculations to obtain purchase count, item price, and total purchase value\n",
    "\n",
    "\n",
    "* Create a summary data frame to hold the results\n",
    "\n",
    "\n",
    "* Sort the purchase count column in descending order\n",
    "\n",
    "\n",
    "* Optional: give the displayed data cleaner formatting\n",
    "\n",
    "\n",
    "* Display a preview of the summary data frame\n",
    "\n"
   ]
  },
  {
   "cell_type": "code",
   "execution_count": 30,
   "metadata": {},
   "outputs": [
    {
     "data": {
      "text/html": [
       "<div>\n",
       "<style scoped>\n",
       "    .dataframe tbody tr th:only-of-type {\n",
       "        vertical-align: middle;\n",
       "    }\n",
       "\n",
       "    .dataframe tbody tr th {\n",
       "        vertical-align: top;\n",
       "    }\n",
       "\n",
       "    .dataframe thead th {\n",
       "        text-align: right;\n",
       "    }\n",
       "</style>\n",
       "<table border=\"1\" class=\"dataframe\">\n",
       "  <thead>\n",
       "    <tr style=\"text-align: right;\">\n",
       "      <th></th>\n",
       "      <th></th>\n",
       "      <th>Purchase Count</th>\n",
       "      <th>Item Price</th>\n",
       "      <th>Total Purchase Price</th>\n",
       "    </tr>\n",
       "    <tr>\n",
       "      <th>Item ID</th>\n",
       "      <th>Item Name</th>\n",
       "      <th></th>\n",
       "      <th></th>\n",
       "      <th></th>\n",
       "    </tr>\n",
       "  </thead>\n",
       "  <tbody>\n",
       "    <tr>\n",
       "      <th>178</th>\n",
       "      <th>Oathbreaker, Last Hope of the Breaking Storm</th>\n",
       "      <td>12</td>\n",
       "      <td>$4.23</td>\n",
       "      <td>$50.76</td>\n",
       "    </tr>\n",
       "    <tr>\n",
       "      <th>145</th>\n",
       "      <th>Fiery Glass Crusader</th>\n",
       "      <td>9</td>\n",
       "      <td>$4.58</td>\n",
       "      <td>$41.22</td>\n",
       "    </tr>\n",
       "    <tr>\n",
       "      <th>108</th>\n",
       "      <th>Extraction, Quickblade Of Trembling Hands</th>\n",
       "      <td>9</td>\n",
       "      <td>$3.53</td>\n",
       "      <td>$31.77</td>\n",
       "    </tr>\n",
       "    <tr>\n",
       "      <th>82</th>\n",
       "      <th>Nirvana</th>\n",
       "      <td>9</td>\n",
       "      <td>$4.90</td>\n",
       "      <td>$44.10</td>\n",
       "    </tr>\n",
       "    <tr>\n",
       "      <th>19</th>\n",
       "      <th>Pursuit, Cudgel of Necromancy</th>\n",
       "      <td>8</td>\n",
       "      <td>$1.02</td>\n",
       "      <td>$8.16</td>\n",
       "    </tr>\n",
       "  </tbody>\n",
       "</table>\n",
       "</div>"
      ],
      "text/plain": [
       "                                                      Purchase Count  \\\n",
       "Item ID Item Name                                                      \n",
       "178     Oathbreaker, Last Hope of the Breaking Storm              12   \n",
       "145     Fiery Glass Crusader                                       9   \n",
       "108     Extraction, Quickblade Of Trembling Hands                  9   \n",
       "82      Nirvana                                                    9   \n",
       "19      Pursuit, Cudgel of Necromancy                              8   \n",
       "\n",
       "                                                     Item Price  \\\n",
       "Item ID Item Name                                                 \n",
       "178     Oathbreaker, Last Hope of the Breaking Storm      $4.23   \n",
       "145     Fiery Glass Crusader                              $4.58   \n",
       "108     Extraction, Quickblade Of Trembling Hands         $3.53   \n",
       "82      Nirvana                                           $4.90   \n",
       "19      Pursuit, Cudgel of Necromancy                     $1.02   \n",
       "\n",
       "                                                     Total Purchase Price  \n",
       "Item ID Item Name                                                          \n",
       "178     Oathbreaker, Last Hope of the Breaking Storm               $50.76  \n",
       "145     Fiery Glass Crusader                                       $41.22  \n",
       "108     Extraction, Quickblade Of Trembling Hands                  $31.77  \n",
       "82      Nirvana                                                    $44.10  \n",
       "19      Pursuit, Cudgel of Necromancy                               $8.16  "
      ]
     },
     "execution_count": 30,
     "metadata": {},
     "output_type": "execute_result"
    }
   ],
   "source": [
    "#Gets the purchase count of each item then turns the series to a dataframe\n",
    "top_item = purchase_data.groupby([\"Item ID\",\"Item Name\"])[\"Purchase ID\"].count()\n",
    "top_item_df = top_item.to_frame(\"Purchase Count\").reset_index()\n",
    "\n",
    "#Gets the price of each item purchased, formats for currency and converts to a dataframe.\n",
    "top_item_price = purchase_data.groupby([\"Item ID\",\"Item Name\"])[\"Price\"].first()\n",
    "top_item_price_formatted = top_item_price.map(\"${:.2f}\".format)\n",
    "top_item_price_df = top_item_price_formatted.to_frame(\"Item Price\").reset_index()\n",
    "\n",
    "#Gets the total price for each item purchased, formats for currency and coverts to a dataframe.  \n",
    "top_item_total_purchase_val = purchase_data.groupby([\"Item ID\",\"Item Name\"])[\"Price\"].sum()\n",
    "top_item_total_purchase_val_formatted = top_item_total_purchase_val.map(\"${:.2f}\".format)\n",
    "top_item_total_purchase_val_df = top_item_total_purchase_val_formatted.to_frame(\"Total Purchase Price\").reset_index()\n",
    "\n",
    "#Merges all the dataframes, sorts by most purchased, sets Item ID and Item Name as the index. \n",
    "most_popular_items_df = top_item_df.merge(top_item_price_df).merge(top_item_total_purchase_val_df).sort_values(by=[\"Purchase Count\"], ascending=False).set_index([\"Item ID\",\"Item Name\"])\n",
    "most_popular_items_df.head()"
   ]
  },
  {
   "cell_type": "markdown",
   "metadata": {},
   "source": [
    "## Most Profitable Items"
   ]
  },
  {
   "cell_type": "markdown",
   "metadata": {},
   "source": [
    "* Sort the above table by total purchase value in descending order\n",
    "\n",
    "\n",
    "* Optional: give the displayed data cleaner formatting\n",
    "\n",
    "\n",
    "* Display a preview of the data frame\n",
    "\n"
   ]
  },
  {
   "cell_type": "code",
   "execution_count": null,
   "metadata": {},
   "outputs": [],
   "source": []
  }
 ],
 "metadata": {
  "anaconda-cloud": {},
  "kernel_info": {
   "name": "python3"
  },
  "kernelspec": {
   "display_name": "Python 3",
   "language": "python",
   "name": "python3"
  },
  "language_info": {
   "codemirror_mode": {
    "name": "ipython",
    "version": 3
   },
   "file_extension": ".py",
   "mimetype": "text/x-python",
   "name": "python",
   "nbconvert_exporter": "python",
   "pygments_lexer": "ipython3",
   "version": "3.6.8"
  },
  "nteract": {
   "version": "0.2.0"
  }
 },
 "nbformat": 4,
 "nbformat_minor": 2
}
